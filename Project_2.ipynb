{
 "cells": [
  {
   "cell_type": "code",
   "execution_count": 5,
   "id": "d7389187",
   "metadata": {},
   "outputs": [
    {
     "data": {
      "text/plain": [
       "DecisionTreeClassifier()"
      ]
     },
     "execution_count": 5,
     "metadata": {},
     "output_type": "execute_result"
    }
   ],
   "source": [
    "import pandas as pd\n",
    "from  sklearn.tree import DecisionTreeClassifier\n",
    "from sklearn.model_selection import train_test_split\n",
    "from sklearn.metrics import accuracy_score\n",
    "# from sklearn.externals import joblib\n",
    "from sklearn import tree\n",
    "\n",
    "music_data =  pd.read_csv('music.csv')\n",
    "X = music_data.drop(columns = ['genre'])\n",
    "y = music_data['genre']\n",
    "X_train, X_test, y_train, y_test  = train_test_split(X,y, test_size=0.2)\n",
    "\n",
    "# Training the model\n",
    "model = DecisionTreeClassifier()\n",
    "model.fit(X_train,y_train)\n"
   ]
  },
  {
   "cell_type": "code",
   "execution_count": 6,
   "id": "4d9cec16",
   "metadata": {},
   "outputs": [
    {
     "name": "stderr",
     "output_type": "stream",
     "text": [
      "/home/vaibhav/anaconda3/lib/python3.9/site-packages/sklearn/base.py:450: UserWarning: X does not have valid feature names, but DecisionTreeClassifier was fitted with feature names\n",
      "  warnings.warn(\n"
     ]
    },
    {
     "data": {
      "text/plain": [
       "array(['HipHop'], dtype=object)"
      ]
     },
     "execution_count": 6,
     "metadata": {},
     "output_type": "execute_result"
    }
   ],
   "source": [
    "# for predicting the genre by passing age and gender as a input\n",
    "predict = model.predict( [ [24,1] ])\n",
    "predict\n"
   ]
  },
  {
   "cell_type": "code",
   "execution_count": 7,
   "id": "63e0c4ff",
   "metadata": {},
   "outputs": [
    {
     "data": {
      "text/plain": [
       "1.0"
      ]
     },
     "execution_count": 7,
     "metadata": {},
     "output_type": "execute_result"
    }
   ],
   "source": [
    "# To test the accuracy\n",
    "predictions = model.predict(X_test)\n",
    "score = accuracy_score(y_test, predictions)\n",
    "score"
   ]
  },
  {
   "cell_type": "code",
   "execution_count": 8,
   "id": "8e3bc446",
   "metadata": {},
   "outputs": [],
   "source": [
    "# Saving the trained model for feature use \n",
    "# joblib.dump(model, 'music.suggestions.joblib')"
   ]
  },
  {
   "cell_type": "code",
   "execution_count": 9,
   "id": "1eafbdcc",
   "metadata": {},
   "outputs": [],
   "source": [
    "\n",
    "# For visualiying the dicision tree\n",
    "tree.export_graphviz(model, out_file= 'music-suggestion.dot', feature_names = ['age','gender'], \n",
    "                     class_names=sorted(y.unique()),label = 'all',rounded = True, filled = True ) "
   ]
  },
  {
   "cell_type": "code",
   "execution_count": null,
   "id": "d1ed8679",
   "metadata": {},
   "outputs": [],
   "source": []
  }
 ],
 "metadata": {
  "kernelspec": {
   "display_name": "Python 3 (ipykernel)",
   "language": "python",
   "name": "python3"
  },
  "language_info": {
   "codemirror_mode": {
    "name": "ipython",
    "version": 3
   },
   "file_extension": ".py",
   "mimetype": "text/x-python",
   "name": "python",
   "nbconvert_exporter": "python",
   "pygments_lexer": "ipython3",
   "version": "3.9.12"
  }
 },
 "nbformat": 4,
 "nbformat_minor": 5
}
